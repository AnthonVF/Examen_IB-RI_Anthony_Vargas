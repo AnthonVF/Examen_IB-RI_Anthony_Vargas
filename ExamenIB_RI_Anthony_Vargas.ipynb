{
  "nbformat": 4,
  "nbformat_minor": 0,
  "metadata": {
    "colab": {
      "provenance": []
    },
    "kernelspec": {
      "name": "python3",
      "display_name": "Python 3"
    },
    "language_info": {
      "name": "python"
    }
  },
  "cells": [
    {
      "cell_type": "markdown",
      "source": [
        "# **Exámen del Primer Bimestre de Recuperación de la Información**\n",
        "## Instrucciones:\n",
        "En este examen, los estudiantes deberán diseñar e implementar un sistema básico de recuperación de información utilizando la base de datos Rotten Tomatoes movies and critic reviews disponible en Kaggle. El objetivo es responder consultas relacionadas con la temática de las películas y sus características.\n",
        "\n",
        "## Requerimientos:\n",
        "\n",
        "\n",
        "1.   Preprocesamiento de Datos\n",
        "2.   Construcción del Sistema\n",
        "3.   Simulación de Consultas: El sistema debe mostrar un listado de las películas más relevantes para cada consulta, ordenadas segpun su relevancia.\n",
        "4.   Análisis de resultados\n",
        "\n",
        "\n",
        "\n"
      ],
      "metadata": {
        "id": "vkJLBi7toyAX"
      }
    },
    {
      "cell_type": "markdown",
      "source": [
        "## **Parte 1: Preprocesamiento del Corpus**\n",
        "\n",
        "\n",
        "1.1. Cargar el Corpus:\n",
        "\n",
        "\n",
        "*   La base de datos de Reviews nos permitirá generar un corpus que se base en la descripción y calificación que los críticos han dado a las películas evaluadas en la plataforma.\n",
        "\n",
        "\n",
        "\n"
      ],
      "metadata": {
        "id": "T5cGZzj6pl0u"
      }
    },
    {
      "cell_type": "code",
      "execution_count": 10,
      "metadata": {
        "colab": {
          "base_uri": "https://localhost:8080/"
        },
        "id": "ZvvCdu76nvXR",
        "outputId": "5a151ffc-b19d-4d5a-9728-aff749c96c2f"
      },
      "outputs": [
        {
          "output_type": "stream",
          "name": "stdout",
          "text": [
            "  rotten_tomatoes_link      critic_name  top_critic           publisher_name  \\\n",
            "0            m/0814255  Andrew L. Urban       False           Urban Cinefile   \n",
            "1            m/0814255    Louise Keller       False           Urban Cinefile   \n",
            "2            m/0814255              NaN       False      FILMINK (Australia)   \n",
            "3            m/0814255     Ben McEachen       False  Sunday Mail (Australia)   \n",
            "4            m/0814255      Ethan Alter        True       Hollywood Reporter   \n",
            "\n",
            "  review_type review_score review_date  \\\n",
            "0       Fresh          NaN  2010-02-06   \n",
            "1       Fresh          NaN  2010-02-06   \n",
            "2       Fresh          NaN  2010-02-09   \n",
            "3       Fresh        3.5/5  2010-02-09   \n",
            "4      Rotten          NaN  2010-02-10   \n",
            "\n",
            "                                      review_content  \n",
            "0  A fantasy adventure that fuses Greek mythology...  \n",
            "1  Uma Thurman as Medusa, the gorgon with a coiff...  \n",
            "2  With a top-notch cast and dazzling special eff...  \n",
            "3  Whether audiences will get behind The Lightnin...  \n",
            "4  What's really lacking in The Lightning Thief i...  \n",
            "<class 'pandas.core.frame.DataFrame'>\n",
            "RangeIndex: 1130017 entries, 0 to 1130016\n",
            "Data columns (total 8 columns):\n",
            " #   Column                Non-Null Count    Dtype \n",
            "---  ------                --------------    ----- \n",
            " 0   rotten_tomatoes_link  1130017 non-null  object\n",
            " 1   critic_name           1111488 non-null  object\n",
            " 2   top_critic            1130017 non-null  bool  \n",
            " 3   publisher_name        1130017 non-null  object\n",
            " 4   review_type           1130017 non-null  object\n",
            " 5   review_score          824081 non-null   object\n",
            " 6   review_date           1130017 non-null  object\n",
            " 7   review_content        1064211 non-null  object\n",
            "dtypes: bool(1), object(7)\n",
            "memory usage: 61.4+ MB\n",
            "None\n"
          ]
        }
      ],
      "source": [
        "import pandas as pd\n",
        "\n",
        "# Leer el archivo como DataFrame\n",
        "reviews_df = pd.read_csv(\"/content/rotten_tomatoes_critic_reviews.csv\")\n",
        "\n",
        "# Mostrar las primeras filas para entender la estructura\n",
        "print(reviews_df.head())\n",
        "print(reviews_df.info())"
      ]
    },
    {
      "cell_type": "markdown",
      "source": [
        "1.2. Limpieza del texto:\n",
        "\n",
        "\n",
        "*   Los atributos de interés en esta base de datos son las diversas críticas para las películas, por lo que el preprocesamiento se concentra en gran parte en la columna de \"review_content\"\n",
        "\n"
      ],
      "metadata": {
        "id": "gUaLQZHishTb"
      }
    },
    {
      "cell_type": "code",
      "source": [
        "import re\n",
        "\n",
        "# Asegurarnos de que la columna 'Synopsis' no tiene valores nulos\n",
        "reviews_df['review_content'] = reviews_df['review_content'].fillna('')\n",
        "\n",
        "# Función para limpiar el texto\n",
        "def limpiar_texto(texto):\n",
        "    texto = re.sub(r'[^A-Za-z\\s]', '', texto)  # Eliminar caracteres especiales y números\n",
        "    texto = re.sub(r'\\s+', ' ', texto)  # Reemplazar múltiples espacios por uno solo\n",
        "    return texto.strip()\n",
        "\n",
        "# Aplicar la limpieza al texto de la sinopsis\n",
        "reviews_df['Cleaned_Review'] = reviews_df['review_content'].apply(limpiar_texto)\n",
        "\n",
        "# Mostrar el resultado de la limpieza\n",
        "print(reviews_df[['review_content', 'Cleaned_Review']].head())"
      ],
      "metadata": {
        "colab": {
          "base_uri": "https://localhost:8080/"
        },
        "id": "_9HeASiRsjlj",
        "outputId": "f7cf28bf-6530-4826-f234-04cb8ef7a1f1"
      },
      "execution_count": 11,
      "outputs": [
        {
          "output_type": "stream",
          "name": "stdout",
          "text": [
            "                                      review_content  \\\n",
            "0  A fantasy adventure that fuses Greek mythology...   \n",
            "1  Uma Thurman as Medusa, the gorgon with a coiff...   \n",
            "2  With a top-notch cast and dazzling special eff...   \n",
            "3  Whether audiences will get behind The Lightnin...   \n",
            "4  What's really lacking in The Lightning Thief i...   \n",
            "\n",
            "                                      Cleaned_Review  \n",
            "0  A fantasy adventure that fuses Greek mythology...  \n",
            "1  Uma Thurman as Medusa the gorgon with a coiffu...  \n",
            "2  With a topnotch cast and dazzling special effe...  \n",
            "3  Whether audiences will get behind The Lightnin...  \n",
            "4  Whats really lacking in The Lightning Thief is...  \n"
          ]
        }
      ]
    },
    {
      "cell_type": "markdown",
      "source": [
        "1.3. Texto a minúsculas"
      ],
      "metadata": {
        "id": "GimEkJXwtfMw"
      }
    },
    {
      "cell_type": "code",
      "source": [
        "# Normalizar el texto a minúsculas\n",
        "reviews_df['Normalized_Review'] = reviews_df['Cleaned_Review'].str.lower()\n",
        "\n",
        "# Mostrar el resultado de la normalización\n",
        "print(reviews_df[['Cleaned_Review', 'Normalized_Review']].head())\n",
        "\n",
        "# Expandir contracciones\n",
        "!pip install contractions\n",
        "from contractions import fix\n",
        "\n",
        "reviews_df['Normalized_Review'] = reviews_df['Normalized_Review'].apply(fix)"
      ],
      "metadata": {
        "colab": {
          "base_uri": "https://localhost:8080/"
        },
        "id": "-RU0SQNdtevB",
        "outputId": "0e46c53c-aa29-46e9-a3cd-b99ad017fa03"
      },
      "execution_count": 14,
      "outputs": [
        {
          "output_type": "stream",
          "name": "stdout",
          "text": [
            "                                      Cleaned_Review  \\\n",
            "0  A fantasy adventure that fuses Greek mythology...   \n",
            "1  Uma Thurman as Medusa the gorgon with a coiffu...   \n",
            "2  With a topnotch cast and dazzling special effe...   \n",
            "3  Whether audiences will get behind The Lightnin...   \n",
            "4  Whats really lacking in The Lightning Thief is...   \n",
            "\n",
            "                                   Normalized_Review  \n",
            "0  a fantasy adventure that fuses greek mythology...  \n",
            "1  uma thurman as medusa the gorgon with a coiffu...  \n",
            "2  with a topnotch cast and dazzling special effe...  \n",
            "3  whether audiences will get behind the lightnin...  \n",
            "4  whats really lacking in the lightning thief is...  \n",
            "Requirement already satisfied: contractions in /usr/local/lib/python3.10/dist-packages (0.1.73)\n",
            "Requirement already satisfied: textsearch>=0.0.21 in /usr/local/lib/python3.10/dist-packages (from contractions) (0.0.24)\n",
            "Requirement already satisfied: anyascii in /usr/local/lib/python3.10/dist-packages (from textsearch>=0.0.21->contractions) (0.3.2)\n",
            "Requirement already satisfied: pyahocorasick in /usr/local/lib/python3.10/dist-packages (from textsearch>=0.0.21->contractions) (2.1.0)\n"
          ]
        }
      ]
    },
    {
      "cell_type": "markdown",
      "source": [
        "1.4. Tokenización"
      ],
      "metadata": {
        "id": "ChHkvQFutqDp"
      }
    },
    {
      "cell_type": "code",
      "source": [
        "import nltk\n",
        "nltk.download('punkt')\n",
        "nltk.download('punkt_tab')\n",
        "\n",
        "# Función para tokenizar el texto\n",
        "def tokenizar_texto(texto):\n",
        "    return nltk.word_tokenize(texto)\n",
        "\n",
        "# Aplicar la tokenización al texto normalizado\n",
        "reviews_df['Tokens'] = reviews_df['Normalized_Review'].apply(tokenizar_texto)\n",
        "\n",
        "# Mostrar el resultado de la tokenización\n",
        "print(reviews_df[['Normalized_Review', 'Tokens']].head())"
      ],
      "metadata": {
        "colab": {
          "base_uri": "https://localhost:8080/"
        },
        "id": "9mtj45-ptr9a",
        "outputId": "0cea4157-4ded-46b9-881c-0f3a8f1e6b8a"
      },
      "execution_count": 15,
      "outputs": [
        {
          "output_type": "stream",
          "name": "stderr",
          "text": [
            "[nltk_data] Downloading package punkt to /root/nltk_data...\n",
            "[nltk_data]   Package punkt is already up-to-date!\n",
            "[nltk_data] Downloading package punkt_tab to /root/nltk_data...\n",
            "[nltk_data]   Package punkt_tab is already up-to-date!\n"
          ]
        },
        {
          "output_type": "stream",
          "name": "stdout",
          "text": [
            "                                   Normalized_Review  \\\n",
            "0  a fantasy adventure that fuses greek mythology...   \n",
            "1  uma thurman as medusa the gorgon with a coiffu...   \n",
            "2  with a topnotch cast and dazzling special effe...   \n",
            "3  whether audiences will get behind the lightnin...   \n",
            "4  what is really lacking in the lightning thief ...   \n",
            "\n",
            "                                              Tokens  \n",
            "0  [a, fantasy, adventure, that, fuses, greek, my...  \n",
            "1  [uma, thurman, as, medusa, the, gorgon, with, ...  \n",
            "2  [with, a, topnotch, cast, and, dazzling, speci...  \n",
            "3  [whether, audiences, will, get, behind, the, l...  \n",
            "4  [what, is, really, lacking, in, the, lightning...  \n"
          ]
        }
      ]
    },
    {
      "cell_type": "markdown",
      "source": [
        "1.5. Eliminación de StopWords"
      ],
      "metadata": {
        "id": "qmDcWPkSt_Dp"
      }
    },
    {
      "cell_type": "code",
      "source": [
        "from nltk.corpus import stopwords\n",
        "nltk.download('stopwords')\n",
        "\n",
        "# Obtener las stopwords en inglés\n",
        "stop_words = set(stopwords.words('english'))\n",
        "\n",
        "# Función para eliminar stopwords\n",
        "def eliminar_stopwords(tokens):\n",
        "    return [word for word in tokens if word not in stop_words]\n",
        "\n",
        "# Aplicar la eliminación de stopwords\n",
        "reviews_df['Filtered_Tokens'] = reviews_df['Tokens'].apply(eliminar_stopwords)\n",
        "\n",
        "# Mostrar el resultado después de eliminar las stopwords\n",
        "print(reviews_df[['Tokens', 'Filtered_Tokens']].head())\n"
      ],
      "metadata": {
        "colab": {
          "base_uri": "https://localhost:8080/"
        },
        "id": "n5CEsXtHuBoi",
        "outputId": "4e3e33ea-e04e-401a-def3-4d807dd65e7c"
      },
      "execution_count": 16,
      "outputs": [
        {
          "output_type": "stream",
          "name": "stderr",
          "text": [
            "[nltk_data] Downloading package stopwords to /root/nltk_data...\n",
            "[nltk_data]   Package stopwords is already up-to-date!\n"
          ]
        },
        {
          "output_type": "stream",
          "name": "stdout",
          "text": [
            "                                              Tokens  \\\n",
            "0  [a, fantasy, adventure, that, fuses, greek, my...   \n",
            "1  [uma, thurman, as, medusa, the, gorgon, with, ...   \n",
            "2  [with, a, topnotch, cast, and, dazzling, speci...   \n",
            "3  [whether, audiences, will, get, behind, the, l...   \n",
            "4  [what, is, really, lacking, in, the, lightning...   \n",
            "\n",
            "                                     Filtered_Tokens  \n",
            "0  [fantasy, adventure, fuses, greek, mythology, ...  \n",
            "1  [uma, thurman, medusa, gorgon, coiffure, writh...  \n",
            "2  [topnotch, cast, dazzling, special, effects, t...  \n",
            "3  [whether, audiences, get, behind, lightning, t...  \n",
            "4  [really, lacking, lightning, thief, genuine, s...  \n"
          ]
        }
      ]
    },
    {
      "cell_type": "markdown",
      "source": [
        "1.6. Implementar Lematización:\n",
        "\n",
        "\n",
        "*   Usar lematización en un contexto de críticas tiene varios beneficios, como obtener el contexto gramatical.\n",
        "\n"
      ],
      "metadata": {
        "id": "DmUDONF0ucyX"
      }
    },
    {
      "cell_type": "code",
      "source": [
        "from nltk.stem import WordNetLemmatizer\n",
        "from nltk.corpus import wordnet\n",
        "nltk.download('wordnet')\n",
        "nltk.download('omw-1.4')\n",
        "\n",
        "# Inicializar el lematizador\n",
        "lemmatizer = WordNetLemmatizer()\n",
        "\n",
        "# Función para lematizar palabras\n",
        "def lematizar_palabras(tokens):\n",
        "    return [lemmatizer.lemmatize(token) for token in tokens]\n",
        "\n",
        "# Aplicar la lematización\n",
        "reviews_df['Lemmatized_Tokens'] = reviews_df['Filtered_Tokens'].apply(lematizar_palabras)\n",
        "\n",
        "# Mostrar el resultado después de la lematización\n",
        "print(reviews_df[['Filtered_Tokens', 'Lemmatized_Tokens']].head())"
      ],
      "metadata": {
        "colab": {
          "base_uri": "https://localhost:8080/"
        },
        "id": "bWSS6FwFufcR",
        "outputId": "a73630ba-cb53-41c5-8fb0-e60dbc641000"
      },
      "execution_count": 17,
      "outputs": [
        {
          "output_type": "stream",
          "name": "stderr",
          "text": [
            "[nltk_data] Downloading package wordnet to /root/nltk_data...\n",
            "[nltk_data]   Package wordnet is already up-to-date!\n",
            "[nltk_data] Downloading package omw-1.4 to /root/nltk_data...\n",
            "[nltk_data]   Package omw-1.4 is already up-to-date!\n"
          ]
        },
        {
          "output_type": "stream",
          "name": "stdout",
          "text": [
            "                                     Filtered_Tokens  \\\n",
            "0  [fantasy, adventure, fuses, greek, mythology, ...   \n",
            "1  [uma, thurman, medusa, gorgon, coiffure, writh...   \n",
            "2  [topnotch, cast, dazzling, special, effects, t...   \n",
            "3  [whether, audiences, get, behind, lightning, t...   \n",
            "4  [really, lacking, lightning, thief, genuine, s...   \n",
            "\n",
            "                                   Lemmatized_Tokens  \n",
            "0  [fantasy, adventure, fuse, greek, mythology, c...  \n",
            "1  [uma, thurman, medusa, gorgon, coiffure, writh...  \n",
            "2  [topnotch, cast, dazzling, special, effect, ti...  \n",
            "3  [whether, audience, get, behind, lightning, th...  \n",
            "4  [really, lacking, lightning, thief, genuine, s...  \n"
          ]
        }
      ]
    },
    {
      "cell_type": "markdown",
      "source": [
        "## **Parte 2: Construcción del Sistema**\n",
        "\n",
        "\n",
        "2.1. Vectorización:\n",
        "\n",
        "\n",
        "*   En el inicializador del vectorizador TF-IDF se incluyen umbrales definidos manualmente:\n",
        "\n",
        "\n",
        "*   max_df=0.8: Esto excluye palabras demasiado comunes que podrían no aportar significado, como palabras específicas del dominio que aparecen en casi todos los documentos.\n",
        "*   min_df=2: Garantiza que solo se incluyan palabras que aparezcan al menos en 2 documentos, reduciendo términos raros que podrían añadir ruido.\n",
        "*   stop_words='english': Capa adicional de seguridad contra palabras irrelevantes.\n",
        "\n",
        "\n",
        "\n"
      ],
      "metadata": {
        "id": "gtW3-1kUwRZh"
      }
    },
    {
      "cell_type": "code",
      "source": [
        "from sklearn.feature_extraction.text import TfidfVectorizer\n",
        "\n",
        "# Combinar los tokens lematizados en un texto por película\n",
        "reviews_df['Processed_Text'] = reviews_df['Lemmatized_Tokens'].apply(lambda tokens: ' '.join(tokens))\n",
        "\n",
        "# Inicializar el vectorizador TF-IDF con n-grams\n",
        "tfidf_vectorizer = TfidfVectorizer(\n",
        "    max_df=0.8,           # Ignorar términos que aparezcan en más del 80% de los documentos\n",
        "    min_df=2,             # Ignorar términos que aparezcan en menos de 2 documentos\n",
        "    stop_words='english', # Remover stopwords adicionales (si aplica)\n",
        "    ngram_range=(1, 2)    # Incluir unigramas y bigramas\n",
        ")\n",
        "\n",
        "# Construir la matriz TF-IDF\n",
        "tfidf_matrix = tfidf_vectorizer.fit_transform(reviews_df['Processed_Text'])\n",
        "\n",
        "# Obtener los términos (palabras clave) y la matriz resultante\n",
        "feature_names = tfidf_vectorizer.get_feature_names_out()\n",
        "print(f\"Matriz TF-IDF construida con {tfidf_matrix.shape[0]} documentos y {tfidf_matrix.shape[1]} términos únicos.\")\n",
        "\n",
        "# Inspeccionar los primeros 10 términos y sus puntajes en el primer documento\n",
        "document_idx = 0  # Índice del documento a inspeccionar\n",
        "feature_array = tfidf_matrix[document_idx].toarray()[0]\n",
        "top_features_idx = feature_array.argsort()[-10:][::-1]  # Índices de los 10 términos más relevantes\n",
        "top_features = [(feature_names[i], feature_array[i]) for i in top_features_idx]\n",
        "print(f\"Términos destacados para el documento {document_idx}: {top_features}\")"
      ],
      "metadata": {
        "colab": {
          "base_uri": "https://localhost:8080/"
        },
        "id": "PJRflZXNwRI3",
        "outputId": "2b4993ae-59ab-433c-e452-e28ca12e5bcf"
      },
      "execution_count": 19,
      "outputs": [
        {
          "output_type": "stream",
          "name": "stdout",
          "text": [
            "Matriz TF-IDF construida con 1130017 documentos y 1480534 términos únicos.\n",
            "Términos destacados para el documento 0: [('mythology contemporary', 0.30492540684370734), ('american place', 0.29858674528208495), ('value couple', 0.29858674528208495), ('place value', 0.28331424202000316), ('thrill visual', 0.28331424202000316), ('greek mythology', 0.2420717676156381), ('contemporary american', 0.22974143693485558), ('couple year', 0.2231021763764049), ('visual spectacle', 0.2187295947746524), ('fantasy adventure', 0.212281039894362)]\n"
          ]
        }
      ]
    },
    {
      "cell_type": "markdown",
      "source": [
        "Observaciones generales de los resultados:\n",
        "* Términos como mythology contemporary, greek mythology, y fantasy adventure\n",
        "destacan debido a su especificidad. Estos términos probablemente no aparecen de forma recurrente en otros documentos, lo que los hace relevantes.\n",
        "* Bigrams como american place y visual spectacle probablemente aportan contexto o describen características específicas del contenido del documento.\n",
        "* Los términos value couple, place value, y couple year podrían referirse a expresiones particulares de este documento que no son tan comunes en otros, aumentando su peso en el puntaje."
      ],
      "metadata": {
        "id": "_zXXDCXulIcr"
      }
    },
    {
      "cell_type": "markdown",
      "source": [
        "## **Parte 3: Simulación de Consultas**\n",
        "\n",
        "\n",
        "3.1. Carga del CSV correspondiente a películas:\n",
        "\n",
        "\n",
        "*   Este paso es necesario ya que el CSV correspondiente a las Reviews carece del título de las películas, por lo que es clave asociarlos para los siguientes pasos.\n",
        "\n"
      ],
      "metadata": {
        "id": "-YHSF5jdmUWf"
      }
    },
    {
      "cell_type": "code",
      "source": [
        "movies_df = pd.read_csv('/content/rotten_tomatoes_movies.csv')  # Ruta al archivo de movies"
      ],
      "metadata": {
        "id": "PU-nJDNIowgF"
      },
      "execution_count": 22,
      "outputs": []
    },
    {
      "cell_type": "markdown",
      "source": [
        "3.2. Eliminación de atributos:\n",
        "\n",
        "\n",
        "*   En el DataFrame de Reviews se eliminarán las columnas que no fueron preprocesadas de ninguna manera y dejando únicamente las columnas de ID y a de los pasos del preprocesamiento para review_content.\n",
        "\n",
        "*   En el DataFrame de Movies se eliminarán las columnas que no son relevantes para este caso y se dejarán únicamente las columnas de ID y de movie_title\n",
        "\n"
      ],
      "metadata": {
        "id": "q0w0Ug4Fo2Tm"
      }
    },
    {
      "cell_type": "code",
      "source": [
        "# Eliminar columnas innecesarias en reviews_df\n",
        "reviews_columns_to_drop = [\n",
        "    'critic_name', 'top_critic', 'publisher_name', 'review_type', 'review_score', 'review_date'\n",
        "]\n",
        "\n",
        "reviews_df.drop(columns=reviews_columns_to_drop, inplace=True)\n",
        "\n",
        "# Eliminar columnas innecesarias en movies_df\n",
        "movies_columns_to_drop = [\n",
        "    'movie_info', 'critics_consensus', 'content_rating', 'genres', 'directors', 'authors',\n",
        "    'actors', 'original_release_date', 'streaming_release_date', 'runtime', 'production_company',\n",
        "    'tomatometer_status', 'tomatometer_rating', 'tomatometer_count', 'audience_status',\n",
        "    'audience_rating', 'audience_count', 'tomatometer_top_critics_count',\n",
        "    'tomatometer_fresh_critics_count', 'tomatometer_rotten_critics_count'\n",
        "]\n",
        "\n",
        "movies_df.drop(columns=movies_columns_to_drop, inplace=True)\n",
        "\n",
        "# Verificar el resultado\n",
        "print(\"Columnas de reviews_df después de la eliminación:\")\n",
        "print(reviews_df.columns)\n",
        "\n",
        "print(\"\\nColumnas de movies_df después de la eliminación:\")\n",
        "print(movies_df.columns)\n"
      ],
      "metadata": {
        "colab": {
          "base_uri": "https://localhost:8080/"
        },
        "id": "pQMbMtvkof7u",
        "outputId": "d080ebfb-6085-4851-9d96-56614395cee9"
      },
      "execution_count": 23,
      "outputs": [
        {
          "output_type": "stream",
          "name": "stdout",
          "text": [
            "Columnas de reviews_df después de la eliminación:\n",
            "Index(['rotten_tomatoes_link', 'review_content', 'Cleaned_Review',\n",
            "       'Normalized_Review', 'Tokens', 'Filtered_Tokens', 'Lemmatized_Tokens',\n",
            "       'Processed_Text'],\n",
            "      dtype='object')\n",
            "\n",
            "Columnas de movies_df después de la eliminación:\n",
            "Index(['rotten_tomatoes_link', 'movie_title'], dtype='object')\n"
          ]
        }
      ]
    },
    {
      "cell_type": "markdown",
      "source": [
        "3.3. Preprocesamiento de las Consultas:\n",
        "\n",
        "*   Esto asegura que la consulta esté en el mismo formato que los documentos de las reseñas, lo cual es clave para obtener resultados coherentes.\n",
        "\n",
        "\n",
        "\n"
      ],
      "metadata": {
        "id": "tr7RlxtFrRAv"
      }
    },
    {
      "cell_type": "code",
      "source": [
        "# Función para preprocesar la consulta\n",
        "def preprocesar_consulta(consulta, stop_words):\n",
        "    # Tokenizar, filtrar stopwords y lematizar\n",
        "    tokens = nltk.word_tokenize(consulta.lower())  # Tokenización simple\n",
        "    tokens_filtrados = eliminar_stopwords(tokens)\n",
        "    tokens_lemmatizados = lematizar_palabras(tokens_filtrados)\n",
        "    return ' '.join(tokens_lemmatizados)"
      ],
      "metadata": {
        "id": "GuVN0Q2_rcsf"
      },
      "execution_count": 27,
      "outputs": []
    },
    {
      "cell_type": "markdown",
      "source": [
        "3.4. Cálculo de la Similitud Coseno (Entre las consultas y la matriz TF-IDF):\n",
        "* Este cálculo es fundamental para determinar qué tan relevantes son las películas para la consulta.\n",
        "* En este cálculo se toma la consulta procesada y se realiza el cálculo de la similitud coseno con la matriz TF-IDF\n",
        "* Ordenamos los índices de similitud de mayor a menor para mejores resultados\n",
        "* Tomamos los 5 índices más relevantes (solo si es que los umbrales definidos en el preprocesamiento de la matriz TF-IDF lo permiten)\n",
        "* Comparar entre los ID del DataFrame de Movies y los de Review para obtener el título de la película\n",
        "* Excluir resultados repetidos (esto puede suceder ya que cada película tiene varias reviews)"
      ],
      "metadata": {
        "id": "e_azlXCWrl73"
      }
    },
    {
      "cell_type": "code",
      "source": [
        "import time\n",
        "from sklearn.metrics.pairwise import cosine_similarity\n",
        "\n",
        "# Función para simular consulta y eliminar duplicados en los títulos de películas\n",
        "def simular_consulta(consulta, tfidf_vectorizer, tfidf_matrix, reviews_df, movies_df):\n",
        "    # Iniciar el temporizador\n",
        "    start_time = time.time()\n",
        "\n",
        "    # Preprocesar la consulta\n",
        "    consulta_procesada = preprocesar_consulta(consulta, stop_words)\n",
        "\n",
        "    # Convertir la consulta procesada a la misma forma que los documentos\n",
        "    consulta_tfidf = tfidf_vectorizer.transform([consulta_procesada])\n",
        "\n",
        "    # Calcular la similitud coseno entre la consulta y los documentos\n",
        "    similitudes = cosine_similarity(consulta_tfidf, tfidf_matrix).flatten()\n",
        "\n",
        "    # Ordenar los índices por similitud (de mayor a menor)\n",
        "    indices_ordenados = similitudes.argsort()[::-1]\n",
        "\n",
        "    # Obtener los 5 índices más relevantes (si es posible)\n",
        "    top_indices = indices_ordenados[:5]\n",
        "\n",
        "    # Obtener los IDs de las películas más relevantes desde el DataFrame de Reviews\n",
        "    peliculas_relevantes_reviews = reviews_df.iloc[top_indices]['rotten_tomatoes_link'].values\n",
        "\n",
        "    # Obtener los títulos de las películas más relevantes desde el DataFrame de Movies\n",
        "    peliculas_relevantes_movies = movies_df[movies_df['rotten_tomatoes_link'].isin(peliculas_relevantes_reviews)]\n",
        "\n",
        "    # Resultados a mostrar (ID de Reviews y Títulos de Movies con la similitud)\n",
        "    resultados = []\n",
        "    vistos = set()  # Conjunto para rastrear IDs de películas ya procesados\n",
        "\n",
        "    for idx in top_indices:\n",
        "        id_review = reviews_df.iloc[idx]['rotten_tomatoes_link']\n",
        "        id_movie = peliculas_relevantes_movies[peliculas_relevantes_movies['rotten_tomatoes_link'] == id_review]['movie_title'].values[0]\n",
        "        similitud = similitudes[idx]\n",
        "\n",
        "        # Evitar duplicados\n",
        "        if id_movie not in vistos:\n",
        "            resultados.append((id_review, id_movie, similitud))\n",
        "            vistos.add(id_movie)  # Añadir al conjunto de vistas para no procesarlo de nuevo\n",
        "\n",
        "    # Medir el tiempo de ejecución\n",
        "    execution_time = time.time() - start_time\n",
        "\n",
        "    # Mostrar los resultados\n",
        "    print(f\"Consulta: {consulta}\")\n",
        "    print(f\"Tiempo de procesamiento: {execution_time:.4f} segundos\")\n",
        "    print(\"Resultados más relevantes:\")\n",
        "    for id_review, id_movie, similitud in resultados:\n",
        "        print(f\"ID de Review: {id_review} | Título de la Película: {id_movie} | Similitud Coseno: {similitud:.4f}\")\n",
        "\n",
        "    return resultados"
      ],
      "metadata": {
        "id": "oxQIiZ2CxNYn"
      },
      "execution_count": 32,
      "outputs": []
    },
    {
      "cell_type": "markdown",
      "source": [
        "3.5. Ejemplos de consultas:"
      ],
      "metadata": {
        "id": "vU2v7wENr79w"
      }
    },
    {
      "cell_type": "code",
      "source": [
        "# Ejemplo de consulta\n",
        "consulta = \"Movies about time travel\"\n",
        "resultados = simular_consulta(consulta, tfidf_vectorizer, tfidf_matrix, reviews_df, movies_df)"
      ],
      "metadata": {
        "colab": {
          "base_uri": "https://localhost:8080/"
        },
        "id": "p-PEw4PZsAhB",
        "outputId": "33067543-3391-40df-8b6c-af2c98654358"
      },
      "execution_count": 33,
      "outputs": [
        {
          "output_type": "stream",
          "name": "stdout",
          "text": [
            "Consulta: Movies about time travel\n",
            "Tiempo de procesamiento: 1.0260 segundos\n",
            "Resultados más relevantes:\n",
            "ID de Review: m/time_travelers_wife | Título de la Película: The Time Traveler's Wife | Similitud Coseno: 0.6413\n",
            "ID de Review: m/butterfly_effect | Título de la Película: The Butterfly Effect | Similitud Coseno: 0.4982\n",
            "ID de Review: m/mickey_blue_eyes | Título de la Película: Mickey Blue Eyes | Similitud Coseno: 0.4827\n"
          ]
        }
      ]
    },
    {
      "cell_type": "code",
      "source": [
        "# Ejemplo de consulta\n",
        "consulta = \" Películas de Brad Pitt\"\n",
        "resultados = simular_consulta(consulta, tfidf_vectorizer, tfidf_matrix, reviews_df, movies_df)"
      ],
      "metadata": {
        "colab": {
          "base_uri": "https://localhost:8080/"
        },
        "id": "PfIP1lpduua6",
        "outputId": "ed6c7dab-52ca-4446-e432-be514e198da6"
      },
      "execution_count": 36,
      "outputs": [
        {
          "output_type": "stream",
          "name": "stdout",
          "text": [
            "Consulta:  Películas de Brad Pitt\n",
            "Tiempo de procesamiento: 1.0910 segundos\n",
            "Resultados más relevantes:\n",
            "ID de Review: m/fury_2015 | Título de la Película: Fury | Similitud Coseno: 0.7354\n",
            "ID de Review: m/moneyball | Título de la Película: Moneyball | Similitud Coseno: 0.6944\n",
            "ID de Review: m/ad_astra | Título de la Película: Ad Astra | Similitud Coseno: 0.6934\n"
          ]
        }
      ]
    },
    {
      "cell_type": "code",
      "source": [
        "# Ejemplo de consulta\n",
        "consulta = \"Latin American Movies\"\n",
        "resultados = simular_consulta(consulta, tfidf_vectorizer, tfidf_matrix, reviews_df, movies_df)"
      ],
      "metadata": {
        "colab": {
          "base_uri": "https://localhost:8080/"
        },
        "id": "x5AvPD2nu8n9",
        "outputId": "1ba6b1d8-8feb-4d4b-dac1-1c3201465145"
      },
      "execution_count": 38,
      "outputs": [
        {
          "output_type": "stream",
          "name": "stdout",
          "text": [
            "Consulta: Latin American Movies\n",
            "Tiempo de procesamiento: 1.2889 segundos\n",
            "Resultados más relevantes:\n",
            "ID de Review: m/duck_season_2006 | Título de la Película: Duck Season (Temporada de patos) | Similitud Coseno: 0.5232\n",
            "ID de Review: m/lower_city | Título de la Película: Lower City (Cidade Baixa) | Similitud Coseno: 0.5020\n",
            "ID de Review: m/searchers | Título de la Película: The Searchers | Similitud Coseno: 0.4842\n",
            "ID de Review: m/glengarry_glen_ross | Título de la Película: Glengarry Glen Ross | Similitud Coseno: 0.4226\n"
          ]
        }
      ]
    },
    {
      "cell_type": "code",
      "source": [
        "# Ejemplo de consulta\n",
        "consulta = \"Italian Movies\"\n",
        "resultados = simular_consulta(consulta, tfidf_vectorizer, tfidf_matrix, reviews_df, movies_df)"
      ],
      "metadata": {
        "colab": {
          "base_uri": "https://localhost:8080/"
        },
        "id": "Cua734DavNMj",
        "outputId": "c75ed6d0-005d-4ed0-b025-b74cd8321f8a"
      },
      "execution_count": 39,
      "outputs": [
        {
          "output_type": "stream",
          "name": "stdout",
          "text": [
            "Consulta: Italian Movies\n",
            "Tiempo de procesamiento: 1.0715 segundos\n",
            "Resultados más relevantes:\n",
            "ID de Review: m/8-12 | Título de la Película: 8 1/2 | Similitud Coseno: 0.6423\n",
            "ID de Review: m/dormant_beauty | Título de la Película: Dormant Beauty | Similitud Coseno: 0.5744\n",
            "ID de Review: m/facing_windows | Título de la Película: Facing Windows | Similitud Coseno: 0.5659\n",
            "ID de Review: m/danger_diabolik | Título de la Película: Danger: Diabolik | Similitud Coseno: 0.4464\n",
            "ID de Review: m/heaven | Título de la Película: Heaven | Similitud Coseno: 0.4355\n"
          ]
        }
      ]
    },
    {
      "cell_type": "code",
      "source": [
        "# Ejemplo de consulta\n",
        "consulta = \"Cinema Paradiso\"\n",
        "resultados = simular_consulta(consulta, tfidf_vectorizer, tfidf_matrix, reviews_df, movies_df)"
      ],
      "metadata": {
        "colab": {
          "base_uri": "https://localhost:8080/"
        },
        "id": "mDWSGmLkvReU",
        "outputId": "50ad98cc-9ec3-4b4d-fa32-4b0294016668"
      },
      "execution_count": 40,
      "outputs": [
        {
          "output_type": "stream",
          "name": "stdout",
          "text": [
            "Consulta: Cinema Paradiso\n",
            "Tiempo de procesamiento: 0.9872 segundos\n",
            "Resultados más relevantes:\n",
            "ID de Review: m/cinema_paradiso | Título de la Película: Cinema Paradiso (Nuovo Cinema Paradiso) | Similitud Coseno: 0.7025\n",
            "ID de Review: m/1101561-1101561-malena | Título de la Película: Malena | Similitud Coseno: 0.6001\n",
            "ID de Review: m/best_worst_movie | Título de la Película: Best Worst Movie | Similitud Coseno: 0.4939\n"
          ]
        }
      ]
    },
    {
      "cell_type": "markdown",
      "source": [
        "## **Parte 4: Análisis de Resultados**\n",
        "Analizaremos la consulta de Cinema Paradiso:\n",
        "* El primer resultado es perfecto: \"Cinema Paradiso\" tiene una similitud bastante\n",
        "alta (0.7025), lo que indica que el sistema está identificando correctamente la película relevante para esta consulta.\n",
        "* Sin embargo, el segundo y tercer resultado no parecen estar relacionados directamente con la consulta de \"Cinema Paradiso\", sin embargo es importante recalcar que Cinema Paradiso es un filme italiano y el resto de resultados están muy asociados con el director de la primera\n",
        "\n"
      ],
      "metadata": {
        "id": "zh-ZbkSGwBG7"
      }
    },
    {
      "cell_type": "markdown",
      "source": [
        "Conclusiones Generales:\n",
        " * Los resultados que coinciden estrechamente con la consulta tienen una similitud coseno alta, lo que es un buen indicativo de que el sistema funciona correctamente para identificar la relación entre la consulta y los documentos.\n",
        " * Es posible que el sistema está evaluando palabras clave genéricas en lugar de un análisis semántico más profundo."
      ],
      "metadata": {
        "id": "84ITNFmhw3tt"
      }
    }
  ]
}